{
 "cells": [
  {
   "cell_type": "code",
   "execution_count": 1,
   "metadata": {},
   "outputs": [],
   "source": [
    "import os\n",
    "import subprocess\n",
    "import re\n",
    "import exiftool\n",
    "from PIL import Image\n",
    "from datetime import datetime\n",
    "import traceback"
   ]
  },
  {
   "cell_type": "markdown",
   "metadata": {},
   "source": [
    "自动压缩脚本所在文件夹下所有图片和视频，图片全部压缩为jpg，视频格式不变\n",
    "\n",
    "顺便清理.aae文件\n",
    "\n",
    "单线程运行，懒得写多线程\n",
    "\n",
    "警告：该脚本会自动覆盖原文件！！！文件元数据部分保留(拍摄设备、GPD、时间戳、旋转信息等),一旦覆盖不可撤回"
   ]
  },
  {
   "cell_type": "code",
   "execution_count": 2,
   "metadata": {},
   "outputs": [],
   "source": [
    "metadataTags = [        # 要复制的元数据类型\n",
    "    'EXIF:Make',  \n",
    "    'EXIF:Model',  \n",
    "    'EXIF:Software',  \n",
    "    'EXIF:Orientation',\n",
    "    'EXIF:XResolution',\n",
    "    'EXIF:YResolution',\n",
    "    'EXIF:ResolutionUnit',\n",
    "    'EXIF:ModifyDate',  \n",
    "    'EXIF:HostComputer',  \n",
    "    'EXIF:ExposureTime',  \n",
    "    'EXIF:FNumber',  \n",
    "    'EXIF:ExposureProgram',\n",
    "    'EXIF:ISO',\n",
    "    'EXIF:DateTimeOriginal',  \n",
    "    'EXIF:CreateDate',  \n",
    "    'EXIF:OffsetTime',  \n",
    "    'EXIF:OffsetTimeOriginal',  \n",
    "    'EXIF:OffsetTimeDigitized',  \n",
    "    'EXIF:ShutterSpeedValue',  \n",
    "    'EXIF:ApertureValue',  \n",
    "    'EXIF:BrightnessValue',  \n",
    "    'EXIF:ExposureCompensation', \n",
    "    'EXIF:MeteringMode',  \n",
    "    'EXIF:Flash',  \n",
    "    'EXIF:FocalLength',  \n",
    "    'EXIF:SubSecTimeOriginal',  \n",
    "    'EXIF:SubSecTimeDigitized',  \n",
    "    'EXIF:ExposureMode',\n",
    "    'EXIF:WhiteBalance',\n",
    "    'EXIF:ColorSpace',\n",
    "    # 'EXIF:ExifImageWidth',\n",
    "    # 'EXIF:ExifImageHeight',\n",
    "    'EXIF:FocalLengthIn35mmFormat',\n",
    "    'EXIF:LensInfo',\n",
    "    'EXIF:LensMake',\n",
    "    'EXIF:LensModel',  \n",
    "    'EXIF:CompositeImage',\n",
    "    'EXIF:GPSLatitudeRef',\n",
    "    'EXIF:GPSLatitude',\n",
    "    'EXIF:GPSLongitudeRef',\n",
    "    'EXIF:GPSLongitude',\n",
    "    'EXIF:GPSAltitudeRef',\n",
    "    'EXIF:GPSAltitude',\n",
    "    'EXIF:GPSTimeStamp',\n",
    "    'EXIF:GPSSpeedRef',\n",
    "    'EXIF:GPSSpeed',\n",
    "    'EXIF:GPSImgDirectionRef',\n",
    "    'EXIF:GPSImgDirection',\n",
    "    'EXIF:GPSDestBearingRef',\n",
    "    'EXIF:GPSDestBearing',\n",
    "    'EXIF:GPSDateStamp',\n",
    "    'EXIF:GPSHPositioningError',\n",
    "    'EXIF:Compression',\n",
    "    'EXIF:Artist',\n",
    "    'EXIF:Copyright',\n",
    "    ]"
   ]
  },
  {
   "cell_type": "code",
   "execution_count": 3,
   "metadata": {},
   "outputs": [],
   "source": [
    "def extract_metadata(input_file):\n",
    "    try:\n",
    "        with exiftool.ExifToolHelper() as et:\n",
    "            metadata = et.get_tags([input_file], tags=metadataTags)[0]\n",
    "            params = et.get_tags([input_file], tags=['EXIF:Orientation','File:ImageWidth','File:ImageHeight'])[0]\n",
    "            return metadata, params['EXIF:Orientation'], params['File:ImageWidth'], params['File:ImageHeight']\n",
    "        \n",
    "    except Exception:\n",
    "        with Image.open(input_file) as img:\n",
    "            width, height = img.size\n",
    "            return {}, 1, width, height"
   ]
  },
  {
   "cell_type": "code",
   "execution_count": 4,
   "metadata": {},
   "outputs": [],
   "source": [
    "def write_metadata(output_file, metadata):\n",
    "    try:\n",
    "        with exiftool.ExifToolHelper() as et:\n",
    "            et.set_tags(\n",
    "                [output_file],\n",
    "                tags=metadata,\n",
    "                params=[\"-P\", \"-overwrite_original\"]\n",
    "            )\n",
    "    except Exception:\n",
    "        return"
   ]
  },
  {
   "cell_type": "code",
   "execution_count": 5,
   "metadata": {},
   "outputs": [],
   "source": [
    "if False:\n",
    "    input_file = '2019_01_03_20_08_IMG_9379.JPG'\n",
    "\n",
    "    metadataTags = metadataTags\n",
    "    command = ['-j'] + [f'-{tag}' for tag in metadataTags] + [input_file]\n",
    "    with exiftool.ExifTool() as et:\n",
    "        result = et.execute(*command)\n",
    "\n",
    "    print(result)\n",
    "\n",
    "    # 定义输入文件和要设置的元数据标签和值\n",
    "    input_file = 'test.jpg'\n",
    "    metadata_to_set = {\n",
    "        'EXIF:Artist': 'Your Name',\n",
    "        'EXIF:Copyright': 'Your Copyright',\n",
    "        \"SourceFile\": \"123.PNG\"\n",
    "    }\n",
    "\n",
    "    # 构建ExifTool命令\n",
    "    command = [\"-P\", \"-overwrite_original\"]\n",
    "    for tag, value in metadata_to_set.items():\n",
    "        command.append(f'-{tag}={value}')\n",
    "    command.append(input_file)\n",
    "\n",
    "    # 使用ExifTool的execute方法执行命令\n",
    "    with exiftool.ExifTool() as et:\n",
    "        et.execute(*command)"
   ]
  },
  {
   "cell_type": "code",
   "execution_count": 6,
   "metadata": {},
   "outputs": [],
   "source": [
    "# 这里是反向操作！！用来抵消ffmpeg对旋转的修正\n",
    "def get_anti_transpose(orientation):\n",
    "    orientation_map = {\n",
    "        1: \"\",          # 正常（不旋转）\n",
    "        2: \"hflip\",     # 水平翻转\n",
    "        3: \"transpose=1,transpose=1\",  # 旋转 180 度\n",
    "        4: \"vflip\",     # 垂直翻转\n",
    "        5: \"transpose=3\",  # 顺时针旋转 90 度并垂直翻转\n",
    "        6: \"transpose=2\",  # 顺时针旋转 90 度\n",
    "        7: \"transpose=0\",  # 逆时针旋转 90 度并垂直翻转\n",
    "        8: \"transpose=1\"   # 逆时针旋转 90 度\n",
    "    }\n",
    "    return orientation_map.get(orientation, \"\")"
   ]
  },
  {
   "cell_type": "code",
   "execution_count": 7,
   "metadata": {},
   "outputs": [],
   "source": [
    "def get_video_duration(input_path):\n",
    "    # 获取视频总时长\n",
    "    result = subprocess.run(['ffprobe', '-v', 'error', '-show_entries', 'format=duration', '-of', 'default=noprint_wrappers=1:nokey=1', input_path], stdout=subprocess.PIPE, stderr=subprocess.STDOUT, encoding='utf-8')\n",
    "    return float(result.stdout)"
   ]
  },
  {
   "cell_type": "code",
   "execution_count": 8,
   "metadata": {},
   "outputs": [],
   "source": [
    "def run_ffmpeg(ffmpeg_command, input_path, isVedio):\n",
    "    # 启动ffmpeg进程\n",
    "    process = subprocess.Popen(ffmpeg_command, stdout=subprocess.PIPE, stderr=subprocess.PIPE, encoding='utf-8', text=True)\n",
    "    \n",
    "    if isVedio:\n",
    "        # 用于解析进度的正则表达式\n",
    "        progress_pattern = re.compile(r\"time=(\\d+:\\d+:\\d+\\.\\d+)\")\n",
    "\n",
    "        total_duration = get_video_duration(input_path)\n",
    "\n",
    "        while True:\n",
    "            output = process.stderr.readline()\n",
    "            if output == '' and process.poll() is not None:\n",
    "                break\n",
    "            if output:\n",
    "                progress_match = progress_pattern.search(output)\n",
    "                if progress_match:\n",
    "                    time_str = progress_match.group(1)\n",
    "                    # 将时间字符串转换为秒数\n",
    "                    h, m, s = map(float, time_str.split(':'))\n",
    "                    current_time = h * 3600 + m * 60 + s\n",
    "                    progress = (current_time / total_duration) * 100\n",
    "                    print(f\"\\rffmpeg convert: {input_path}, progress: {progress:.2f}%                                      \", end = \"\")\n",
    "    else:\n",
    "        print(f\"\\rffmpeg convert: {input_path}, progress: 99.99%                                      \", end = \"\")\n",
    "        \n",
    "    stdout, stderr = process.communicate()      # 读取输出和错误流\n",
    "    # 检查退出状态码\n",
    "    if process.returncode != 0:\n",
    "        print(\"\\033[91m\\nConversion failed!\\n\\033[0m\")"
   ]
  },
  {
   "cell_type": "code",
   "execution_count": 9,
   "metadata": {},
   "outputs": [],
   "source": [
    "def compress_image(input_path, output_path):\n",
    "    # 获得元数据\n",
    "    meta, orientation, original_width, original_height = extract_metadata(input_path)\n",
    "    # 获取图像的原始分辨率\n",
    "    transpose = get_anti_transpose(orientation)\n",
    "\n",
    "    # 分辨率太大则按比例缩小\n",
    "    if max_size_x<=0 or max_size_y<=0:\n",
    "        scale = 1\n",
    "    else:\n",
    "        scale = min(1, max_size_x/original_width, max_size_y/original_height)\n",
    "        scale = 1 if scale <= 0.7 else scale        #长图或者全景图不调分辨率\n",
    "    new_width = scale * original_width\n",
    "    new_height = scale * original_height\n",
    "\n",
    "    # 压缩值\n",
    "    if(new_height * new_width > 3000000):\n",
    "        compressValue = '5'\n",
    "    else:\n",
    "        compressValue = '2'\n",
    "    \n",
    "    if transpose != \"\":\n",
    "        transpose += \",\"\n",
    "    # 构造ffmpeg命令\n",
    "    ffmpeg_command = [\n",
    "        'ffmpeg', '-i', input_path,\n",
    "        '-q:v', compressValue,\n",
    "        '-vf', f'{transpose}scale={new_width}:{new_height}',\n",
    "        '-map_metadata', '0',\n",
    "        '-y',\n",
    "        output_path\n",
    "    ]\n",
    "\n",
    "    # 执行ffmpeg命令\n",
    "    run_ffmpeg(ffmpeg_command, input_path, False)\n",
    "\n",
    "    return meta"
   ]
  },
  {
   "cell_type": "code",
   "execution_count": 10,
   "metadata": {},
   "outputs": [],
   "source": [
    "def compress_video(input_path, output_path):\n",
    "    # 构造ffmpeg命令\n",
    "    ffmpeg_command = [\n",
    "        'ffmpeg', '-i', input_path,\n",
    "        '-c:v', 'libx265',\n",
    "        '-pix_fmt', 'yuv420p',\n",
    "        '-crf', '23',\n",
    "        '-c:a', 'aac',\n",
    "        '-map_metadata', '0',\n",
    "        '-y',\n",
    "        output_path\n",
    "    ]\n",
    "\n",
    "     # 执行ffmpeg命令\n",
    "    run_ffmpeg(ffmpeg_command, input_path, True)"
   ]
  },
  {
   "cell_type": "code",
   "execution_count": 11,
   "metadata": {},
   "outputs": [],
   "source": [
    "def delete_file(input_path):\n",
    "    os.remove(input_path)\n",
    "    print(f'\\nRemove {input_path}')"
   ]
  },
  {
   "cell_type": "code",
   "execution_count": 12,
   "metadata": {},
   "outputs": [],
   "source": [
    "def process_media(filename):\n",
    "    format = filename.split('.')[-1].lower()\n",
    "    if format in to_delete_formats:\n",
    "        delete_file(filename)\n",
    "\n",
    "    elif format in to_compress_image_formats:\n",
    "        # 转换，并删除原图\n",
    "        if format == 'jpg':\n",
    "            output_path = filename\n",
    "            metadata = compress_image(filename, output_path)\n",
    "            write_metadata(output_path, metadata)\n",
    "        else:\n",
    "            output_path = filename.rsplit('.', 1)[0] + '.jpg'\n",
    "            metadata = compress_image(filename, output_path)\n",
    "            write_metadata(output_path, metadata)\n",
    "            os.remove(filename)\n",
    "\n",
    "    elif format in to_compress_vedio_formats:\n",
    "        # 转换，保留原格式，并直接覆盖\n",
    "        output_path = filename.rsplit('.', 1)[0]+\"_.mov\"\n",
    "        compress_video(filename, output_path)\n",
    "        os.remove(filename)"
   ]
  },
  {
   "cell_type": "code",
   "execution_count": 13,
   "metadata": {},
   "outputs": [],
   "source": [
    "def process_media_in_folder(folder_path):\n",
    "    # 用绝对路径\n",
    "    folder_path = os.path.abspath(folder_path)\n",
    "    for root, _, files in os.walk(folder_path):\n",
    "        os.chdir(os.path.join(folder_path, root))\n",
    "        print(f\"\\n[ directory: {root} ]\")\n",
    "        for filename in files:\n",
    "            try:\n",
    "                process_media(filename)\n",
    "            except Exception as e:\n",
    "                tb_str = ''.join(traceback.format_exception(None, e, e.__traceback__))\n",
    "                print(f\"\\033[91m\\n{os.path.join(root, filename)} process error, exception: {e}\\nTraceback:\\n{tb_str}\\033[0m\")"
   ]
  },
  {
   "cell_type": "code",
   "execution_count": 14,
   "metadata": {},
   "outputs": [],
   "source": [
    "# 图片分辨率超过下面设定的，会自动缩小分辨率，但比例不变  //////////  -1表示尺寸不变\n",
    "max_size_x = 3024\n",
    "max_size_y = 3024\n",
    "# max_size_x = -1\n",
    "# max_size_y = -1\n",
    "#文件路径，会包括其子文件夹\n",
    "path = \"E:\\照片\\脚本_压缩全部媒体文件\""
   ]
  },
  {
   "cell_type": "code",
   "execution_count": 15,
   "metadata": {},
   "outputs": [],
   "source": [
    "#将压缩的图片的格式\n",
    "to_compress_image_formats = ['jpg','png','jpeg']\n",
    "#将压缩的视频格式\n",
    "to_compress_vedio_formats = ['mov','mp4']\n",
    "#要删除的格式\n",
    "to_delete_formats = ['aae']"
   ]
  },
  {
   "cell_type": "code",
   "execution_count": 16,
   "metadata": {},
   "outputs": [
    {
     "name": "stdout",
     "output_type": "stream",
     "text": [
      "\n",
      "[ directory: E:\\照片\\脚本_压缩全部媒体文件 ]\n",
      "\n",
      "[ directory: E:\\照片\\脚本_压缩全部媒体文件\\py_compress_media ]\n",
      "ffmpeg convert: 2017真题分析及18复习之道 第1次 （仟帆教育·今生老师）.mp4, progress: 0.40%                                      "
     ]
    },
    {
     "ename": "KeyboardInterrupt",
     "evalue": "",
     "output_type": "error",
     "traceback": [
      "\u001b[1;31m---------------------------------------------------------------------------\u001b[0m",
      "\u001b[1;31mKeyboardInterrupt\u001b[0m                         Traceback (most recent call last)",
      "Cell \u001b[1;32mIn[16], line 1\u001b[0m\n\u001b[1;32m----> 1\u001b[0m \u001b[43mprocess_media_in_folder\u001b[49m\u001b[43m(\u001b[49m\u001b[43mpath\u001b[49m\u001b[43m)\u001b[49m\n\u001b[0;32m      2\u001b[0m \u001b[38;5;28mprint\u001b[39m(\u001b[38;5;124m'\u001b[39m\u001b[38;5;130;01m\\n\u001b[39;00m\u001b[38;5;124mdone...\u001b[39m\u001b[38;5;124m'\u001b[39m)\n",
      "Cell \u001b[1;32mIn[13], line 9\u001b[0m, in \u001b[0;36mprocess_media_in_folder\u001b[1;34m(folder_path)\u001b[0m\n\u001b[0;32m      7\u001b[0m \u001b[38;5;28;01mfor\u001b[39;00m filename \u001b[38;5;129;01min\u001b[39;00m files:\n\u001b[0;32m      8\u001b[0m     \u001b[38;5;28;01mtry\u001b[39;00m:\n\u001b[1;32m----> 9\u001b[0m         \u001b[43mprocess_media\u001b[49m\u001b[43m(\u001b[49m\u001b[43mfilename\u001b[49m\u001b[43m)\u001b[49m\n\u001b[0;32m     10\u001b[0m     \u001b[38;5;28;01mexcept\u001b[39;00m \u001b[38;5;167;01mException\u001b[39;00m \u001b[38;5;28;01mas\u001b[39;00m e:\n\u001b[0;32m     11\u001b[0m         tb_str \u001b[38;5;241m=\u001b[39m \u001b[38;5;124m'\u001b[39m\u001b[38;5;124m'\u001b[39m\u001b[38;5;241m.\u001b[39mjoin(traceback\u001b[38;5;241m.\u001b[39mformat_exception(\u001b[38;5;28;01mNone\u001b[39;00m, e, e\u001b[38;5;241m.\u001b[39m__traceback__))\n",
      "Cell \u001b[1;32mIn[12], line 21\u001b[0m, in \u001b[0;36mprocess_media\u001b[1;34m(filename)\u001b[0m\n\u001b[0;32m     18\u001b[0m \u001b[38;5;28;01melif\u001b[39;00m \u001b[38;5;28mformat\u001b[39m \u001b[38;5;129;01min\u001b[39;00m to_compress_vedio_formats:\n\u001b[0;32m     19\u001b[0m     \u001b[38;5;66;03m# 转换，保留原格式，并直接覆盖\u001b[39;00m\n\u001b[0;32m     20\u001b[0m     output_path \u001b[38;5;241m=\u001b[39m filename\u001b[38;5;241m.\u001b[39mrsplit(\u001b[38;5;124m'\u001b[39m\u001b[38;5;124m.\u001b[39m\u001b[38;5;124m'\u001b[39m, \u001b[38;5;241m1\u001b[39m)[\u001b[38;5;241m0\u001b[39m]\u001b[38;5;241m+\u001b[39m\u001b[38;5;124m\"\u001b[39m\u001b[38;5;124m_.mov\u001b[39m\u001b[38;5;124m\"\u001b[39m\n\u001b[1;32m---> 21\u001b[0m     \u001b[43mcompress_video\u001b[49m\u001b[43m(\u001b[49m\u001b[43mfilename\u001b[49m\u001b[43m,\u001b[49m\u001b[43m \u001b[49m\u001b[43moutput_path\u001b[49m\u001b[43m)\u001b[49m\n\u001b[0;32m     22\u001b[0m     os\u001b[38;5;241m.\u001b[39mremove(filename)\n",
      "Cell \u001b[1;32mIn[10], line 15\u001b[0m, in \u001b[0;36mcompress_video\u001b[1;34m(input_path, output_path)\u001b[0m\n\u001b[0;32m      3\u001b[0m ffmpeg_command \u001b[38;5;241m=\u001b[39m [\n\u001b[0;32m      4\u001b[0m     \u001b[38;5;124m'\u001b[39m\u001b[38;5;124mffmpeg\u001b[39m\u001b[38;5;124m'\u001b[39m, \u001b[38;5;124m'\u001b[39m\u001b[38;5;124m-i\u001b[39m\u001b[38;5;124m'\u001b[39m, input_path,\n\u001b[0;32m      5\u001b[0m     \u001b[38;5;124m'\u001b[39m\u001b[38;5;124m-c:v\u001b[39m\u001b[38;5;124m'\u001b[39m, \u001b[38;5;124m'\u001b[39m\u001b[38;5;124mlibx265\u001b[39m\u001b[38;5;124m'\u001b[39m,\n\u001b[1;32m   (...)\u001b[0m\n\u001b[0;32m     11\u001b[0m     output_path\n\u001b[0;32m     12\u001b[0m ]\n\u001b[0;32m     14\u001b[0m  \u001b[38;5;66;03m# 执行ffmpeg命令\u001b[39;00m\n\u001b[1;32m---> 15\u001b[0m \u001b[43mrun_ffmpeg\u001b[49m\u001b[43m(\u001b[49m\u001b[43mffmpeg_command\u001b[49m\u001b[43m,\u001b[49m\u001b[43m \u001b[49m\u001b[43minput_path\u001b[49m\u001b[43m,\u001b[49m\u001b[43m \u001b[49m\u001b[38;5;28;43;01mTrue\u001b[39;49;00m\u001b[43m)\u001b[49m\n",
      "Cell \u001b[1;32mIn[8], line 12\u001b[0m, in \u001b[0;36mrun_ffmpeg\u001b[1;34m(ffmpeg_command, input_path, isVedio)\u001b[0m\n\u001b[0;32m      9\u001b[0m total_duration \u001b[38;5;241m=\u001b[39m get_video_duration(input_path)\n\u001b[0;32m     11\u001b[0m \u001b[38;5;28;01mwhile\u001b[39;00m \u001b[38;5;28;01mTrue\u001b[39;00m:\n\u001b[1;32m---> 12\u001b[0m     output \u001b[38;5;241m=\u001b[39m \u001b[43mprocess\u001b[49m\u001b[38;5;241;43m.\u001b[39;49m\u001b[43mstderr\u001b[49m\u001b[38;5;241;43m.\u001b[39;49m\u001b[43mreadline\u001b[49m\u001b[43m(\u001b[49m\u001b[43m)\u001b[49m\n\u001b[0;32m     13\u001b[0m     \u001b[38;5;28;01mif\u001b[39;00m output \u001b[38;5;241m==\u001b[39m \u001b[38;5;124m'\u001b[39m\u001b[38;5;124m'\u001b[39m \u001b[38;5;129;01mand\u001b[39;00m process\u001b[38;5;241m.\u001b[39mpoll() \u001b[38;5;129;01mis\u001b[39;00m \u001b[38;5;129;01mnot\u001b[39;00m \u001b[38;5;28;01mNone\u001b[39;00m:\n\u001b[0;32m     14\u001b[0m         \u001b[38;5;28;01mbreak\u001b[39;00m\n",
      "File \u001b[1;32md:\\Conda\\Miniconda3\\lib\\codecs.py:319\u001b[0m, in \u001b[0;36mBufferedIncrementalDecoder.decode\u001b[1;34m(self, input, final)\u001b[0m\n\u001b[0;32m    314\u001b[0m \u001b[38;5;28;01mdef\u001b[39;00m \u001b[38;5;21m_buffer_decode\u001b[39m(\u001b[38;5;28mself\u001b[39m, \u001b[38;5;28minput\u001b[39m, errors, final):\n\u001b[0;32m    315\u001b[0m     \u001b[38;5;66;03m# Overwrite this method in subclasses: It must decode input\u001b[39;00m\n\u001b[0;32m    316\u001b[0m     \u001b[38;5;66;03m# and return an (output, length consumed) tuple\u001b[39;00m\n\u001b[0;32m    317\u001b[0m     \u001b[38;5;28;01mraise\u001b[39;00m \u001b[38;5;167;01mNotImplementedError\u001b[39;00m\n\u001b[1;32m--> 319\u001b[0m \u001b[38;5;28;01mdef\u001b[39;00m \u001b[38;5;21mdecode\u001b[39m(\u001b[38;5;28mself\u001b[39m, \u001b[38;5;28minput\u001b[39m, final\u001b[38;5;241m=\u001b[39m\u001b[38;5;28;01mFalse\u001b[39;00m):\n\u001b[0;32m    320\u001b[0m     \u001b[38;5;66;03m# decode input (taking the buffer into account)\u001b[39;00m\n\u001b[0;32m    321\u001b[0m     data \u001b[38;5;241m=\u001b[39m \u001b[38;5;28mself\u001b[39m\u001b[38;5;241m.\u001b[39mbuffer \u001b[38;5;241m+\u001b[39m \u001b[38;5;28minput\u001b[39m\n\u001b[0;32m    322\u001b[0m     (result, consumed) \u001b[38;5;241m=\u001b[39m \u001b[38;5;28mself\u001b[39m\u001b[38;5;241m.\u001b[39m_buffer_decode(data, \u001b[38;5;28mself\u001b[39m\u001b[38;5;241m.\u001b[39merrors, final)\n",
      "\u001b[1;31mKeyboardInterrupt\u001b[0m: "
     ]
    }
   ],
   "source": [
    "process_media_in_folder(path)\n",
    "print('\\ndone...')"
   ]
  },
  {
   "cell_type": "code",
   "execution_count": null,
   "metadata": {},
   "outputs": [],
   "source": [
    "\n",
    "    \n",
    "# input_file = 'output.mp4'\n",
    "# input_file = 'IMG_8908.jpeg'\n",
    "# output_file = 'IMG_8908.JPG'\n",
    "\n",
    "# metadata = extract_metadata(input_file)\n",
    "\n",
    "# if metadata:\n",
    "#     write_metadata(output_file, metadata)\n",
    "#     print(f\"Metadata written to {output_file}\")\n",
    "# else:\n",
    "#     print(\"No metadata found. Output file not created.\")\n"
   ]
  }
 ],
 "metadata": {
  "kernelspec": {
   "display_name": "base",
   "language": "python",
   "name": "python3"
  },
  "language_info": {
   "codemirror_mode": {
    "name": "ipython",
    "version": 3
   },
   "file_extension": ".py",
   "mimetype": "text/x-python",
   "name": "python",
   "nbconvert_exporter": "python",
   "pygments_lexer": "ipython3",
   "version": "3.10.13"
  }
 },
 "nbformat": 4,
 "nbformat_minor": 2
}
